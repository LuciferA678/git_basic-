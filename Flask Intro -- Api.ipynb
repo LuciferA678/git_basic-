{
 "cells": [
  {
   "cell_type": "markdown",
   "id": "32db4a76",
   "metadata": {},
   "source": [
    "# Flask"
   ]
  },
  {
   "cell_type": "code",
   "execution_count": null,
   "id": "63ce427c",
   "metadata": {},
   "outputs": [],
   "source": [
    "!pip install flask"
   ]
  },
  {
   "cell_type": "code",
   "execution_count": 2,
   "id": "177f26b3",
   "metadata": {},
   "outputs": [],
   "source": [
    "from flask import Flask"
   ]
  },
  {
   "cell_type": "code",
   "execution_count": 3,
   "id": "36910fdf",
   "metadata": {},
   "outputs": [],
   "source": [
    "\n",
    "# from sklearn.linear_model import LinearRegression\n",
    "\n",
    "# lr = LinearRegression()#creating the instance here\n",
    "\n",
    "# lr.fit(x,Y)# using the method of LR class\n",
    "\n",
    "\n",
    "# This is just for your ref"
   ]
  },
  {
   "cell_type": "markdown",
   "id": "6a99436c",
   "metadata": {},
   "source": [
    "# Static url"
   ]
  },
  {
   "cell_type": "code",
   "execution_count": 9,
   "id": "a9c53aa8",
   "metadata": {},
   "outputs": [
    {
     "name": "stdout",
     "output_type": "stream",
     "text": [
      " * Serving Flask app \"__main__\" (lazy loading)\n",
      " * Environment: production\n",
      "\u001b[31m   WARNING: This is a development server. Do not use it in a production deployment.\u001b[0m\n",
      "\u001b[2m   Use a production WSGI server instead.\u001b[0m\n",
      " * Debug mode: off\n"
     ]
    },
    {
     "name": "stderr",
     "output_type": "stream",
     "text": [
      " * Running on http://127.0.0.1:5000/ (Press CTRL+C to quit)\n",
      "127.0.0.1 - - [03/Dec/2022 12:13:52] \"GET /manish HTTP/1.1\" 200 -\n",
      "127.0.0.1 - - [03/Dec/2022 12:13:59] \"GET /gaju HTTP/1.1\" 404 -\n"
     ]
    }
   ],
   "source": [
    "#intializing the flask\n",
    "app = Flask(__name__)#dir struct is required  and __name__ would take cre of that\n",
    "\n",
    "@app.route(\"/manish\")# It is use to bind the below function that is hello to the url mention in the bracket\n",
    "def hello():\n",
    "    return \"I hope you will dance after seeing the output\"\n",
    "    \n",
    "app.run()# this will create your flask server"
   ]
  },
  {
   "cell_type": "markdown",
   "id": "9ae878be",
   "metadata": {},
   "source": [
    "# Dynamic Url"
   ]
  },
  {
   "cell_type": "code",
   "execution_count": null,
   "id": "ec7af5d9",
   "metadata": {},
   "outputs": [
    {
     "name": "stdout",
     "output_type": "stream",
     "text": [
      " * Serving Flask app \"__main__\" (lazy loading)\n",
      " * Environment: production\n",
      "\u001b[31m   WARNING: This is a development server. Do not use it in a production deployment.\u001b[0m\n",
      "\u001b[2m   Use a production WSGI server instead.\u001b[0m\n",
      " * Debug mode: off\n"
     ]
    },
    {
     "name": "stderr",
     "output_type": "stream",
     "text": [
      " * Running on http://127.0.0.1:5001/ (Press CTRL+C to quit)\n",
      "127.0.0.1 - - [03/Dec/2022 12:22:49] \"GET / HTTP/1.1\" 404 -\n",
      "127.0.0.1 - - [03/Dec/2022 12:22:49] \"GET /favicon.ico HTTP/1.1\" 200 -\n",
      "127.0.0.1 - - [03/Dec/2022 12:22:53] \"GET /vinesh HTTP/1.1\" 200 -\n",
      "127.0.0.1 - - [03/Dec/2022 12:22:53] \"GET /favicon.ico HTTP/1.1\" 200 -\n"
     ]
    }
   ],
   "source": [
    "#intializing the flask\n",
    "app = Flask(__name__)#dir struct is required  and __name__ would take cre of that\n",
    "\n",
    "@app.route(\"/<name>\")# It is use to bind the below function that is hello to the url mention in the bracket\n",
    "def hello(name):\n",
    "    return \"<html><h1>My name is \"+name\n",
    "    \n",
    "app.run(port=5001)# this will create your flask server"
   ]
  },
  {
   "cell_type": "code",
   "execution_count": null,
   "id": "faede966",
   "metadata": {},
   "outputs": [],
   "source": []
  }
 ],
 "metadata": {
  "kernelspec": {
   "display_name": "Python 3 (ipykernel)",
   "language": "python",
   "name": "python3"
  },
  "language_info": {
   "codemirror_mode": {
    "name": "ipython",
    "version": 3
   },
   "file_extension": ".py",
   "mimetype": "text/x-python",
   "name": "python",
   "nbconvert_exporter": "python",
   "pygments_lexer": "ipython3",
   "version": "3.9.12"
  }
 },
 "nbformat": 4,
 "nbformat_minor": 5
}
